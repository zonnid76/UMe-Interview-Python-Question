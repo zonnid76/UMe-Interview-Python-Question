{
 "cells": [
  {
   "cell_type": "code",
   "execution_count": 1,
   "id": "f11d3d2e",
   "metadata": {},
   "outputs": [],
   "source": [
    "import pandas as pd"
   ]
  },
  {
   "cell_type": "code",
   "execution_count": 4,
   "id": "43076bb0",
   "metadata": {},
   "outputs": [],
   "source": [
    "data = pd.read_csv('/Users/zonnid76/Downloads/top_songs.csv')"
   ]
  },
  {
   "cell_type": "code",
   "execution_count": 5,
   "id": "c2b9279f",
   "metadata": {},
   "outputs": [],
   "source": [
    "# To count the number of occurrences of each artist in the data\n",
    "artist_counts = data['artist'].value_counts()"
   ]
  },
  {
   "cell_type": "code",
   "execution_count": 11,
   "id": "401e56cd",
   "metadata": {},
   "outputs": [],
   "source": [
    "# To find the artist with the most occurences in the data\n",
    "most_freqent_artist = artist_counts.idxmax()"
   ]
  },
  {
   "cell_type": "code",
   "execution_count": 10,
   "id": "5ebbce4a",
   "metadata": {},
   "outputs": [
    {
     "data": {
      "text/plain": [
       "'Various Artists'"
      ]
     },
     "execution_count": 10,
     "metadata": {},
     "output_type": "execute_result"
    }
   ],
   "source": [
    "most_freqent_artist"
   ]
  },
  {
   "cell_type": "markdown",
   "id": "47b2cae5",
   "metadata": {},
   "source": [
    "The artist that appears most in the data is \"various artists\", which I have confirmed is true using SQL code to double-check the data, in which \"Various Artists\" had 93 tracks in the dataset, followed by \"Elton John\" and \"Taylor Swift\", each of whom had 31 tracks in the dataset. "
   ]
  },
  {
   "cell_type": "code",
   "execution_count": 13,
   "id": "a362eeec",
   "metadata": {},
   "outputs": [],
   "source": [
    "# To find the average tempo in the data\n",
    "average_tempo = data['tempo'].mean()"
   ]
  },
  {
   "cell_type": "code",
   "execution_count": 14,
   "id": "864e2985",
   "metadata": {},
   "outputs": [
    {
     "data": {
      "text/plain": [
       "119.88951981879954"
      ]
     },
     "execution_count": 14,
     "metadata": {},
     "output_type": "execute_result"
    }
   ],
   "source": [
    "average_tempo"
   ]
  },
  {
   "cell_type": "markdown",
   "id": "2cd31f07",
   "metadata": {},
   "source": [
    "The average tempo of the tracks in the dataset is 119.88951981879954, almost 120 bpm. Using SQL to double-check this, I can confirm this is true."
   ]
  }
 ],
 "metadata": {
  "kernelspec": {
   "display_name": "Python 3 (ipykernel)",
   "language": "python",
   "name": "python3"
  },
  "language_info": {
   "codemirror_mode": {
    "name": "ipython",
    "version": 3
   },
   "file_extension": ".py",
   "mimetype": "text/x-python",
   "name": "python",
   "nbconvert_exporter": "python",
   "pygments_lexer": "ipython3",
   "version": "3.9.15"
  }
 },
 "nbformat": 4,
 "nbformat_minor": 5
}
